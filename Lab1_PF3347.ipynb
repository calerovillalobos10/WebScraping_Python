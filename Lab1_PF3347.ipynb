{
  "nbformat": 4,
  "nbformat_minor": 0,
  "metadata": {
    "colab": {
      "provenance": [],
      "include_colab_link": true
    },
    "kernelspec": {
      "name": "python3",
      "display_name": "Python 3"
    },
    "language_info": {
      "name": "python"
    }
  },
  "cells": [
    {
      "cell_type": "markdown",
      "metadata": {
        "id": "view-in-github",
        "colab_type": "text"
      },
      "source": [
        "<a href=\"https://colab.research.google.com/github/calerovillalobos10/WebScraping_Python/blob/main/Lab1_PF3347.ipynb\" target=\"_parent\"><img src=\"https://colab.research.google.com/assets/colab-badge.svg\" alt=\"Open In Colab\"/></a>"
      ]
    },
    {
      "cell_type": "markdown",
      "source": [
        "# Lab1 Análisis en Ciencia de Datos\n"
      ],
      "metadata": {
        "id": "ivp_vDCFiMkG"
      }
    },
    {
      "cell_type": "markdown",
      "source": [
        "# Estudiantes\n",
        "\n",
        "\n",
        "*   Bryan Thomas Calero Villalobos\n",
        "*   Daniela Montero Parkinson\n",
        "*   Elemento de la lista"
      ],
      "metadata": {
        "id": "3tihfyRTrWwI"
      }
    },
    {
      "cell_type": "markdown",
      "source": [
        "# ¿Qué es web scraping?\n",
        "* Definición de web scraping. hola\n",
        "\n",
        "* Ejemplos de aplicaciones de web scraping en el mundo real.\n",
        "\n",
        "* Herramientas comunes para realizar web scraping en Python.\n",
        "\n",
        "* Consideraciones éticas y legales al realizar web scraping."
      ],
      "metadata": {
        "id": "jSkBJJ6DrzZ5"
      }
    },
    {
      "cell_type": "markdown",
      "source": [
        "# Desarrollo Web Scraping en Gollo"
      ],
      "metadata": {
        "id": "4Ch3alwWvG0Y"
      }
    },
    {
      "cell_type": "markdown",
      "source": [
        "## Extracción de datos"
      ],
      "metadata": {
        "id": "DHIVnGDivSl3"
      }
    },
    {
      "cell_type": "code",
      "source": [
        "print(\"Hola\")\n",
        "print(\"perro\")"
      ],
      "metadata": {
        "colab": {
          "base_uri": "https://localhost:8080/"
        },
        "id": "bedm1pRLwtn4",
        "outputId": "ba7cfd79-3cfc-4aa9-df94-852a3ff8525c"
      },
      "execution_count": null,
      "outputs": [
        {
          "output_type": "stream",
          "name": "stdout",
          "text": [
            "perro\n"
          ]
        }
      ]
    },
    {
      "cell_type": "markdown",
      "source": [
        "## Procesamiento de datos"
      ],
      "metadata": {
        "id": "Ob0iJaU5vXuJ"
      }
    },
    {
      "cell_type": "markdown",
      "source": [
        "## Visualización de datos"
      ],
      "metadata": {
        "id": "w0W1bw3jvbYk"
      }
    }
  ]
}