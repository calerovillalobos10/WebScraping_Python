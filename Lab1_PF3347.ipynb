{
  "nbformat": 4,
  "nbformat_minor": 0,
  "metadata": {
    "colab": {
      "provenance": [],
      "include_colab_link": true
    },
    "kernelspec": {
      "name": "python3",
      "display_name": "Python 3"
    },
    "language_info": {
      "name": "python"
    }
  },
  "cells": [
    {
      "cell_type": "markdown",
      "metadata": {
        "id": "view-in-github",
        "colab_type": "text"
      },
      "source": [
        "<a href=\"https://colab.research.google.com/github/calerovillalobos10/WebScraping_Python/blob/main/Lab1_PF3347.ipynb\" target=\"_parent\"><img src=\"https://colab.research.google.com/assets/colab-badge.svg\" alt=\"Open In Colab\"/></a>"
      ]
    },
    {
      "cell_type": "markdown",
      "source": [
        "# Lab1 Análisis en Ciencia de Datos\n"
      ],
      "metadata": {
        "id": "ivp_vDCFiMkG"
      }
    },
    {
      "cell_type": "markdown",
      "source": [
        "# Estudiantes\n",
        "\n",
        "\n",
        "*   Bryan Thomas Calero Villalobos\n",
        "*   Daniela Montero Parkinson\n",
        "*   Elemento de la lista"
      ],
      "metadata": {
        "id": "3tihfyRTrWwI"
      }
    },
    {
      "cell_type": "markdown",
      "source": [
        "# ¿Qué es web scraping?\n",
        "* Definición de web scraping. hola\n",
        "\n",
        "* Ejemplos de aplicaciones de web scraping en el mundo real.\n",
        "* Consideraciones éticas y legales al realizar web scraping."
      ],
      "metadata": {
        "id": "aYwSbV1Age58"
      }
    },
    {
      "cell_type": "markdown",
      "source": [
        "\n",
        "\n",
        "**Herramientas comunes para realizar web scraping en Python.**\n",
        "\n",
        "\n",
        "**BeautifulSoup:**Richardson (2021) proporciona documentación detallada sobre BeautifulSoup, una biblioteca para extraer datos de HTML y XML, Es una librería para extraer datos de archivos HTML y XML. Facilita la navegación por el árbol de análisis de documentos.\n",
        "\n",
        "**Requests:**\n",
        "Reitz (2021) ofrece una guía completa sobre Requests, una biblioteca en Python para realizar solicitudes HTTP de manera eficiente y fácil de usar, en la documentación oficial del proyecto.\n",
        "\n",
        "**Scrapy:**\n",
        "El proyecto Scrapy (2024) presenta una documentación extensa sobre Scrapy, un marco de trabajo para la extracción de datos web, accesible en el sitio web de la documentación de Scrapy."
      ],
      "metadata": {
        "id": "jSkBJJ6DrzZ5"
      }
    },
    {
      "cell_type": "markdown",
      "source": [
        "# Desarrollo Web Scraping en Gollo"
      ],
      "metadata": {
        "id": "4Ch3alwWvG0Y"
      }
    },
    {
      "cell_type": "markdown",
      "source": [
        "## Extracción de datos"
      ],
      "metadata": {
        "id": "DHIVnGDivSl3"
      }
    },
    {
      "cell_type": "code",
      "source": [
        "!pip3 install requests\n",
        "!pip3 install beautifulsoup4"
      ],
      "metadata": {
        "colab": {
          "base_uri": "https://localhost:8080/"
        },
        "id": "bedm1pRLwtn4",
        "outputId": "15c05daf-b0a7-4c10-c1aa-caab1c46d334"
      },
      "execution_count": null,
      "outputs": [
        {
          "output_type": "stream",
          "name": "stdout",
          "text": [
            "Requirement already satisfied: requests in /usr/local/lib/python3.10/dist-packages (2.32.3)\n",
            "Requirement already satisfied: charset-normalizer<4,>=2 in /usr/local/lib/python3.10/dist-packages (from requests) (3.3.2)\n",
            "Requirement already satisfied: idna<4,>=2.5 in /usr/local/lib/python3.10/dist-packages (from requests) (3.7)\n",
            "Requirement already satisfied: urllib3<3,>=1.21.1 in /usr/local/lib/python3.10/dist-packages (from requests) (2.0.7)\n",
            "Requirement already satisfied: certifi>=2017.4.17 in /usr/local/lib/python3.10/dist-packages (from requests) (2024.7.4)\n",
            "Requirement already satisfied: beautifulsoup4 in /usr/local/lib/python3.10/dist-packages (4.12.3)\n",
            "Requirement already satisfied: soupsieve>1.2 in /usr/local/lib/python3.10/dist-packages (from beautifulsoup4) (2.5)\n"
          ]
        }
      ]
    },
    {
      "cell_type": "code",
      "source": [
        "import requests\n",
        "from bs4 import BeautifulSoup"
      ],
      "metadata": {
        "id": "8BqKuTyxW5K5"
      },
      "execution_count": null,
      "outputs": []
    },
    {
      "cell_type": "code",
      "source": [
        "# Número de página inicial\n",
        "page_number = 1\n",
        "max_pages = 130  # Establece un límite máximo para evitar bucles infinitos, puedes ajustarlo según el número de páginas esperadas."
      ],
      "metadata": {
        "id": "-T5895J2W7uk"
      },
      "execution_count": null,
      "outputs": []
    },
    {
      "cell_type": "code",
      "source": [
        "while page_number <= max_pages:\n",
        "\n",
        "  url = f'https://www.gollo.com/c?p={page_number}'\n",
        "  page = requests.get(url)\n",
        "\n",
        "  if page.status_code != 200:\n",
        "    print(f\"Error al acceder a la página {page_number}. Código de estado: {page.status_code}\")\n",
        "    break\n",
        "\n",
        "  soup = BeautifulSoup(page.text, 'html.parser')\n",
        "  block_items = soup.find_all(class_='product-item-details')\n",
        "\n",
        "  # Si no hay más productos en la página, se detiene el bucle\n",
        "  if not block_items:\n",
        "    print(f\"No se encontraron más productos en la página {page_number}.\")\n",
        "    break\n",
        "\n",
        "  data = []\n",
        "\n",
        "  for items in block_items:\n",
        "    name = items.find(class_='product-item-link').text.strip()\n",
        "\n",
        "    block_final_price = items.find(class_='price-final_price')\n",
        "    final_price = block_final_price.find(class_='price').text.strip() if block_final_price else None\n",
        "\n",
        "    block_old_price = items.find(class_='old-price')\n",
        "    old_price = block_old_price.find(class_='price').text.strip() if block_old_price else None\n",
        "\n",
        "    block_special_price = items.find(class_='special-price')\n",
        "    special_price = block_special_price.find(class_='price').text.strip() if block_special_price else None\n",
        "\n",
        "    data.append({\n",
        "        \"name\": name,\n",
        "        \"final_price\": final_price,\n",
        "        \"old_price\": old_price,\n",
        "        \"special_price\": special_price,\n",
        "    })\n",
        "\n",
        "  # Avanza a la siguiente página\n",
        "  page_number += 1"
      ],
      "metadata": {
        "id": "DpWQhzEdW-30"
      },
      "execution_count": null,
      "outputs": []
    },
    {
      "cell_type": "code",
      "source": [
        "print(data)"
      ],
      "metadata": {
        "colab": {
          "base_uri": "https://localhost:8080/"
        },
        "id": "hFm_ZzKTZLNO",
        "outputId": "1d2e89b6-66ca-4269-c058-2b227d733bde"
      },
      "execution_count": null,
      "outputs": [
        {
          "output_type": "stream",
          "name": "stdout",
          "text": [
            "[{'name': 'Estéreo MTX MTX-580ML 240 W', 'final_price': '₡129.000', 'old_price': None, 'special_price': None}, {'name': 'Cocina Eléctrica Mabe 4 quemadores EME5025BSS0', 'final_price': '₡349.990', 'old_price': None, 'special_price': None}, {'name': 'Cocina Gas de piso Mabe 6 Quemadores EM7657CSIS0', 'final_price': '₡389.990', 'old_price': None, 'special_price': None}, {'name': 'Cocina G.E 5 Quemadores JGBS66REKSS', 'final_price': '₡499.990', 'old_price': '₡499.990', 'special_price': '₡416.990'}, {'name': 'Organizador Commod Dhara 4 cajones MDP Gris', 'final_price': '₡109.000', 'old_price': '₡109.000', 'special_price': '₡76.300'}, {'name': 'Extractor de jugo Oster FPSTJU4175 75 W Blanco', 'final_price': '₡29.900', 'old_price': None, 'special_price': None}, {'name': 'Colchón Sleepland Queen Prime', 'final_price': '₡199.000', 'old_price': None, 'special_price': None}, {'name': 'Colchón Sleepland Individual Prime Ortopédico', 'final_price': '₡129.000', 'old_price': None, 'special_price': None}, {'name': 'Cocina Mabe 4 Quemadores EME6063BVX0', 'final_price': '₡376.990', 'old_price': '₡376.990', 'special_price': '₡280.010'}, {'name': 'Cocina Mabe 4 Quemadores EME5040BVS0', 'final_price': '₡339.990', 'old_price': '₡339.990', 'special_price': '₡279.805'}, {'name': 'Colchón Sleepland Queen Perfection', 'final_price': '₡375.900', 'old_price': None, 'special_price': None}, {'name': 'Colchón Sleepland Matrimonial Perfection', 'final_price': '₡347.900', 'old_price': None, 'special_price': None}, {'name': 'Colchón Sleepland King Perfection', 'final_price': '₡567.900', 'old_price': None, 'special_price': None}, {'name': 'Colchón Sleepland Queen Golden Quiropráctico', 'final_price': '₡249.000', 'old_price': None, 'special_price': None}, {'name': 'Colchón Sleepland Individual Golden Ortopédico', 'final_price': '₡187.900', 'old_price': None, 'special_price': None}, {'name': 'Cocina Mabe 4 Quemadores a gas EMA5110SG0', 'final_price': '₡179.990', 'old_price': '₡179.990', 'special_price': '₡134.400'}, {'name': 'Cocina a gas Mabe 6 Quemadores EM7660CFIX', 'final_price': '₡319.990', 'old_price': '₡319.990', 'special_price': '₡287.990'}, {'name': 'Cocina Gas De Piso Mabe EM7622BAPS 6 Quemadores', 'final_price': '₡239.990', 'old_price': '₡239.990', 'special_price': '₡206.990'}, {'name': 'Cocina General Electric 5 quemadores JCB840SKSS', 'final_price': '₡739.990', 'old_price': '₡739.990', 'special_price': '₡600.015'}, {'name': 'Colchón Luxor Individual Despertar Pillow', 'final_price': '₡119.900', 'old_price': None, 'special_price': None}, {'name': 'Cocina Eléctrica General Electric 4 quemadores JCB830SKSS', 'final_price': '₡659.990', 'old_price': '₡659.990', 'special_price': '₡560.000'}, {'name': 'Cocina G.E 4 Quemadores JCBS630SVSS', 'final_price': '₡439.990', 'old_price': '₡439.990', 'special_price': '₡367.985'}, {'name': 'Colchón Luxor King Doble Pillow', 'final_price': '₡259.900', 'old_price': None, 'special_price': None}, {'name': 'Colchón Luxor Individual Doble Pillow', 'final_price': '₡139.900', 'old_price': None, 'special_price': None}]\n"
          ]
        }
      ]
    },
    {
      "cell_type": "markdown",
      "source": [
        "## Procesamiento de datos"
      ],
      "metadata": {
        "id": "Ob0iJaU5vXuJ"
      }
    },
    {
      "cell_type": "code",
      "source": [
        "import pandas as pd\n",
        "\n",
        "\n",
        "\n"
      ],
      "metadata": {
        "id": "IAVlllxna8bZ"
      },
      "execution_count": null,
      "outputs": []
    },
    {
      "cell_type": "code",
      "source": [
        "\n",
        "df = pd.DataFrame(data, columns=[\"name\", \"final_price\", \"old_price\", \"special_price\"])\n",
        "print(df)"
      ],
      "metadata": {
        "colab": {
          "base_uri": "https://localhost:8080/"
        },
        "id": "PYWCzfQucVjq",
        "outputId": "bac7b9e8-1173-414b-f763-89abc8928fc2"
      },
      "execution_count": null,
      "outputs": [
        {
          "output_type": "stream",
          "name": "stdout",
          "text": [
            "                                                 name final_price old_price  \\\n",
            "0                         Estéreo MTX MTX-580ML 240 W    ₡129.000      None   \n",
            "1      Cocina Eléctrica Mabe 4 quemadores EME5025BSS0    ₡349.990      None   \n",
            "2    Cocina Gas de piso Mabe 6 Quemadores EM7657CSIS0    ₡389.990      None   \n",
            "3                 Cocina G.E 5 Quemadores JGBS66REKSS    ₡499.990  ₡499.990   \n",
            "4         Organizador Commod Dhara 4 cajones MDP Gris    ₡109.000  ₡109.000   \n",
            "5      Extractor de jugo Oster FPSTJU4175 75 W Blanco     ₡29.900      None   \n",
            "6                       Colchón Sleepland Queen Prime    ₡199.000      None   \n",
            "7                Cocina Mabe 4 Quemadores EME6063BVX0    ₡376.990  ₡376.990   \n",
            "8       Colchón Sleepland Individual Prime Ortopédico    ₡129.000      None   \n",
            "9                  Colchón Sleepland Queen Perfection    ₡375.900      None   \n",
            "10               Cocina Mabe 4 Quemadores EME5040BVS0    ₡339.990  ₡339.990   \n",
            "11           Colchón Sleepland Matrimonial Perfection    ₡347.900      None   \n",
            "12                  Colchón Sleepland King Perfection    ₡567.900      None   \n",
            "13       Colchón Sleepland Queen Golden Quiropráctico    ₡249.000      None   \n",
            "14     Colchón Sleepland Individual Golden Ortopédico    ₡187.900      None   \n",
            "15          Cocina Mabe 4 Quemadores a gas EMA5110SG0    ₡179.990  ₡179.990   \n",
            "16          Cocina a gas Mabe 6 Quemadores EM7660CFIX    ₡319.990  ₡319.990   \n",
            "17    Cocina Gas De Piso Mabe EM7622BAPS 6 Quemadores    ₡239.990  ₡239.990   \n",
            "18    Cocina General Electric 5 quemadores JCB840SKSS    ₡739.990  ₡739.990   \n",
            "19          Colchón Luxor Individual Despertar Pillow    ₡119.900      None   \n",
            "20  Cocina Eléctrica General Electric 4 quemadores...    ₡659.990  ₡659.990   \n",
            "21                Cocina G.E 4 Quemadores JCBS630SVSS    ₡439.990  ₡439.990   \n",
            "22                    Colchón Luxor King Doble Pillow    ₡259.900      None   \n",
            "23              Colchón Luxor Individual Doble Pillow    ₡139.900      None   \n",
            "\n",
            "   special_price  \n",
            "0           None  \n",
            "1           None  \n",
            "2           None  \n",
            "3       ₡416.990  \n",
            "4        ₡76.300  \n",
            "5           None  \n",
            "6           None  \n",
            "7       ₡280.010  \n",
            "8           None  \n",
            "9           None  \n",
            "10      ₡279.805  \n",
            "11          None  \n",
            "12          None  \n",
            "13          None  \n",
            "14          None  \n",
            "15      ₡134.400  \n",
            "16      ₡287.990  \n",
            "17      ₡206.990  \n",
            "18      ₡600.015  \n",
            "19          None  \n",
            "20      ₡560.000  \n",
            "21      ₡367.985  \n",
            "22          None  \n",
            "23          None  \n"
          ]
        }
      ]
    },
    {
      "cell_type": "code",
      "source": [],
      "metadata": {
        "id": "3znE3Rtja8QS"
      },
      "execution_count": null,
      "outputs": []
    },
    {
      "cell_type": "code",
      "source": [],
      "metadata": {
        "id": "H0uLcErBVf_3"
      },
      "execution_count": null,
      "outputs": []
    },
    {
      "cell_type": "markdown",
      "source": [
        "Referencias\n",
        "\n",
        "\n",
        "BeautifulSoup:Richardson, L. (2021). Beautiful Soup Documentation. Recuperado de https://www.crummy.com/software/BeautifulSoup/bs4/doc/\n",
        "\n",
        "Requests:Reitz, K. (2021). Requests: HTTP for Humans. Recuperado de https://docs.python-requests.org/en/latest/\n",
        "\n",
        "Scrapy:Scrapy Project. (2024). Scrapy Documentation. Recuperado de https://docs.scrapy.org/en/latest/"
      ],
      "metadata": {
        "id": "RYdaZJYhh_Pi"
      }
    },
    {
      "cell_type": "markdown",
      "source": [
        "## Visualización de datos"
      ],
      "metadata": {
        "id": "w0W1bw3jvbYk"
      }
    }
  ]
}